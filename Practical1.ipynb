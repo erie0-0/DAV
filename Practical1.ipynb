{
  "nbformat": 4,
  "nbformat_minor": 0,
  "metadata": {
    "colab": {
      "provenance": []
    },
    "kernelspec": {
      "name": "python3",
      "display_name": "Python 3"
    },
    "language_info": {
      "name": "python"
    }
  },
  "cells": [
    {
      "cell_type": "code",
      "execution_count": null,
      "metadata": {
        "id": "Jg4QEBrjItbC"
      },
      "outputs": [],
      "source": [
        "org={'Boys': [72, 68, 70, 69, 74], 'Girls': [63, 65, 69, 62, 61]}"
      ]
    },
    {
      "cell_type": "code",
      "source": [
        "l=list()\n",
        "for i in range(len(org['Boys'])):\n",
        "  new_dict={}\n",
        "  new_dict['Boys']=org['Boys'][i]\n",
        "  new_dict['Girls']=org['Girls'][i]\n",
        "  l.append(new_dict)"
      ],
      "metadata": {
        "colab": {
          "base_uri": "https://localhost:8080/"
        },
        "id": "Ad2Z4HYBJCDf",
        "outputId": "fd80488d-2522-4510-f98c-92285474a870"
      },
      "execution_count": null,
      "outputs": [
        {
          "output_type": "stream",
          "name": "stdout",
          "text": [
            "[{'Boys': 72, 'Girls': 63}]\n",
            "[{'Boys': 72, 'Girls': 63}, {'Boys': 68, 'Girls': 65}]\n",
            "[{'Boys': 72, 'Girls': 63}, {'Boys': 68, 'Girls': 65}, {'Boys': 70, 'Girls': 69}]\n",
            "[{'Boys': 72, 'Girls': 63}, {'Boys': 68, 'Girls': 65}, {'Boys': 70, 'Girls': 69}, {'Boys': 69, 'Girls': 62}]\n",
            "[{'Boys': 72, 'Girls': 63}, {'Boys': 68, 'Girls': 65}, {'Boys': 70, 'Girls': 69}, {'Boys': 69, 'Girls': 62}, {'Boys': 74, 'Girls': 61}]\n"
          ]
        }
      ]
    },
    {
      "cell_type": "code",
      "source": [
        "l"
      ],
      "metadata": {
        "colab": {
          "base_uri": "https://localhost:8080/"
        },
        "id": "zXSKc6p5JRjV",
        "outputId": "634a2a75-d362-4f4b-ba05-3fa269f328d7"
      },
      "execution_count": null,
      "outputs": [
        {
          "output_type": "execute_result",
          "data": {
            "text/plain": [
              "[{'Boys': 72, 'Girls': 63},\n",
              " {'Boys': 68, 'Girls': 65},\n",
              " {'Boys': 70, 'Girls': 69},\n",
              " {'Boys': 69, 'Girls': 62},\n",
              " {'Boys': 74, 'Girls': 61}]"
            ]
          },
          "metadata": {},
          "execution_count": 28
        }
      ]
    },
    {
      "cell_type": "code",
      "source": [],
      "metadata": {
        "id": "D6s6zfDPWeWD"
      },
      "execution_count": null,
      "outputs": []
    },
    {
      "cell_type": "code",
      "source": [],
      "metadata": {
        "id": "V6QqY6hmWuVK"
      },
      "execution_count": null,
      "outputs": []
    }
  ]
}